{
 "cells": [
  {
   "cell_type": "markdown",
   "id": "488491f2",
   "metadata": {},
   "source": [
    "## 1. ¿Cuál es el país más \"feliz\" del 2021 según la data?"
   ]
  },
  {
   "cell_type": "code",
   "execution_count": 1,
   "id": "786a24b2",
   "metadata": {},
   "outputs": [
    {
     "name": "stdout",
     "output_type": "stream",
     "text": [
      "El país más feliz en 2021 es: Finland\n"
     ]
    }
   ],
   "source": [
    "import pandas as pd\n",
    "\n",
    "# Cargar el dataset de 2021\n",
    "data_2021 = pd.read_csv(\"Datasets/world-happiness-report-2021.csv\")\n",
    "\n",
    "# Encontrar el país más feliz\n",
    "pais_mas_feliz_2021 = data_2021[data_2021[\"Ladder score\"] == data_2021[\"Ladder score\"].max()][\"Country name\"].values[0]\n",
    "\n",
    "print(\"El país más feliz en 2021 es:\", pais_mas_feliz_2021)"
   ]
  },
  {
   "cell_type": "markdown",
   "id": "365c6f62",
   "metadata": {},
   "source": [
    "## 2. ¿Cuál es el país más \"feliz\" del 2021 por continente según la data?"
   ]
  },
  {
   "cell_type": "code",
   "execution_count": 2,
   "id": "0b2d7dee",
   "metadata": {},
   "outputs": [
    {
     "name": "stdout",
     "output_type": "stream",
     "text": [
      "['Western Europe' 'North America and ANZ' 'Middle East and North Africa'\n",
      " 'Latin America and Caribbean' 'Central and Eastern Europe' 'East Asia'\n",
      " 'Southeast Asia' 'Commonwealth of Independent States'\n",
      " 'Sub-Saharan Africa' 'South Asia']\n"
     ]
    }
   ],
   "source": [
    "# Obtener los valores únicos de la columna \"Regional indicator\"\n",
    "valores_unicos = data_2021['Regional indicator'].unique()\n",
    "\n",
    "print(valores_unicos)"
   ]
  },
  {
   "cell_type": "code",
   "execution_count": 3,
   "id": "72dc8617",
   "metadata": {},
   "outputs": [
    {
     "name": "stdout",
     "output_type": "stream",
     "text": [
      "     Regional indicator Continent\n",
      "0        Western Europe    Europe\n",
      "1        Western Europe    Europe\n",
      "2        Western Europe    Europe\n",
      "3        Western Europe    Europe\n",
      "4        Western Europe    Europe\n",
      "..                  ...       ...\n",
      "144  Sub-Saharan Africa    Africa\n",
      "145  Sub-Saharan Africa    Africa\n",
      "146  Sub-Saharan Africa    Africa\n",
      "147  Sub-Saharan Africa    Africa\n",
      "148          South Asia      Asia\n",
      "\n",
      "[149 rows x 2 columns]\n"
     ]
    }
   ],
   "source": [
    "# Crear un diccionario de mapeo de regiones a continentes\n",
    "region_to_country = {\n",
    "    \"Western Europe\": \"Europe\",\n",
    "    \"Central and Eastern Europe\": \"Europe\",\n",
    "    \"North America and ANZ\": \"America\",\n",
    "    \"Latin America and Caribbean\": \"America\",\n",
    "    \"East Asia\": \"Asia\",\n",
    "    \"Commonwealth of Independent States\": \"Asia\",\n",
    "    \"Southeast Asia\": \"Asia\",\n",
    "    \"South Asia\": \"Asia\",\n",
    "    \"Sub-Saharan Africa\": \"Africa\",\n",
    "    \"Middle East and North Africa\": \"Africa\"\n",
    "}\n",
    "\n",
    "# Crear la nueva columna \"Country\" basada en \"Regional indicator\"\n",
    "data_2021['Continent'] = data_2021['Regional indicator'].apply(lambda x: region_to_country.get(x, x))\n",
    "\n",
    "# Mostrar el DataFrame con la nueva columna\n",
    "print(data_2021[['Regional indicator', 'Continent']])"
   ]
  },
  {
   "cell_type": "code",
   "execution_count": 4,
   "id": "ab9ac49e",
   "metadata": {},
   "outputs": [
    {
     "name": "stdout",
     "output_type": "stream",
     "text": [
      "Continent\n",
      "Africa                       Israel\n",
      "America                 New Zealand\n",
      "Asia       Taiwan Province of China\n",
      "Europe                      Finland\n",
      "dtype: object\n"
     ]
    }
   ],
   "source": [
    "# Agrupar por continente y encontrar el país más feliz en cada continente\n",
    "pais_mas_feliz_por_continente = data_2021.groupby(\"Continent\").apply(lambda x: x[x[\"Ladder score\"] == x[\"Ladder score\"].max()][\"Country name\"].values[0])\n",
    "\n",
    "print(pais_mas_feliz_por_continente)"
   ]
  },
  {
   "cell_type": "code",
   "execution_count": 5,
   "id": "1d9138dd",
   "metadata": {},
   "outputs": [
    {
     "name": "stdout",
     "output_type": "stream",
     "text": [
      "Israel es el país más feliz en Africa.\n",
      "New Zealand es el país más feliz en America.\n",
      "Taiwan Province of China es el país más feliz en Asia.\n",
      "Finland es el país más feliz en Europe.\n"
     ]
    }
   ],
   "source": [
    "# Mostrar el resultado en el formato deseado\n",
    "for continente, pais_mas_feliz in pais_mas_feliz_por_continente.items():\n",
    "    print(f\"{pais_mas_feliz} es el país más feliz en {continente}.\")"
   ]
  },
  {
   "cell_type": "markdown",
   "id": "ea01c8a9",
   "metadata": {},
   "source": [
    "## 3. ¿Cuál es el país que más veces ocupó el primer lugar en todos los años?"
   ]
  },
  {
   "cell_type": "code",
   "execution_count": 6,
   "id": "77b56841",
   "metadata": {},
   "outputs": [],
   "source": [
    "# Cargar el dataset que contiene datos de todos los años\n",
    "data = pd.read_csv(\"Datasets/world-happiness-report.csv\")"
   ]
  },
  {
   "cell_type": "code",
   "execution_count": 7,
   "id": "95ce5c84",
   "metadata": {},
   "outputs": [
    {
     "name": "stdout",
     "output_type": "stream",
     "text": [
      "     Country name  year\n",
      "449       Denmark  2005\n",
      "551       Finland  2006\n",
      "450       Denmark  2007\n",
      "451       Denmark  2008\n",
      "452       Denmark  2009\n",
      "453       Denmark  2010\n",
      "454       Denmark  2011\n",
      "1654  Switzerland  2012\n",
      "300        Canada  2013\n",
      "457       Denmark  2014\n",
      "1304       Norway  2015\n",
      "559       Finland  2016\n",
      "560       Finland  2017\n",
      "561       Finland  2018\n",
      "562       Finland  2019\n",
      "563       Finland  2020\n"
     ]
    }
   ],
   "source": [
    "# Agrupar los datos por año y encontrar el país con la puntuación de \"Life Ladder\" más alta en cada año\n",
    "pais_mas_feliz_por_anio = data.groupby(\"year\")[\"Life Ladder\"].idxmax()\n",
    "\n",
    "# Obtener los nombres de los países y los años correspondientes a los índices máximos\n",
    "paises_mas_felices = data.loc[pais_mas_feliz_por_anio, [\"Country name\", \"year\"]]\n",
    "\n",
    "# Mostrar el resultado\n",
    "print(paises_mas_felices)"
   ]
  },
  {
   "cell_type": "code",
   "execution_count": 8,
   "id": "a60d0cc8",
   "metadata": {},
   "outputs": [
    {
     "name": "stdout",
     "output_type": "stream",
     "text": [
      "      year  Life Ladder Country name\n",
      "449   2005        8.019      Denmark\n",
      "551   2006        7.672      Finland\n",
      "450   2007        7.834      Denmark\n",
      "451   2008        7.971      Denmark\n",
      "452   2009        7.683      Denmark\n",
      "453   2010        7.771      Denmark\n",
      "454   2011        7.788      Denmark\n",
      "1654  2012        7.776  Switzerland\n",
      "300   2013        7.594       Canada\n",
      "457   2014        7.508      Denmark\n",
      "1304  2015        7.603       Norway\n",
      "559   2016        7.660      Finland\n",
      "560   2017        7.788      Finland\n",
      "561   2018        7.858      Finland\n",
      "562   2019        7.780      Finland\n",
      "563   2020        7.889      Finland\n"
     ]
    }
   ],
   "source": [
    "# Cargar el dataset que contiene datos de todos los años\n",
    "data = pd.read_csv(\"Datasets/world-happiness-report.csv\")\n",
    "\n",
    "# Agrupar por año y encontrar el máximo en \"Life Ladder\" para cada año\n",
    "max_life_ladder = data.groupby('year')['Life Ladder'].max()\n",
    "\n",
    "# Filtrar los datos originales para obtener los países con el \"Life Ladder\" máximo de cada año\n",
    "countries_with_max_life_ladder = data[data.apply(lambda x: (x['year'], x['Life Ladder']) in max_life_ladder.items(), axis=1)]\n",
    "print(countries_with_max_life_ladder[['year', 'Life Ladder', 'Country name']].sort_values(by='year'))"
   ]
  },
  {
   "cell_type": "code",
   "execution_count": 9,
   "id": "c18a37c4",
   "metadata": {},
   "outputs": [
    {
     "name": "stdout",
     "output_type": "stream",
     "text": [
      "  Country name  Times first\n",
      "0       Canada            1\n",
      "1      Denmark            7\n",
      "2      Finland            6\n",
      "3       Norway            1\n",
      "4  Switzerland            1\n"
     ]
    }
   ],
   "source": [
    "# Agrupar por país y contar las veces que un país ha ocupado el primer lugar\n",
    "country_rank_counts = countries_with_max_life_ladder.groupby('Country name').size().reset_index(name='Times first')\n",
    "print(country_rank_counts)"
   ]
  },
  {
   "cell_type": "code",
   "execution_count": 10,
   "id": "9c47c03b",
   "metadata": {},
   "outputs": [
    {
     "name": "stdout",
     "output_type": "stream",
     "text": [
      "      year  Life Ladder Country name\n",
      "449   2005        8.019      Denmark\n",
      "551   2006        7.672      Finland\n",
      "450   2007        7.834      Denmark\n",
      "451   2008        7.971      Denmark\n",
      "452   2009        7.683      Denmark\n",
      "453   2010        7.771      Denmark\n",
      "454   2011        7.788      Denmark\n",
      "1654  2012        7.776  Switzerland\n",
      "300   2013        7.594       Canada\n",
      "457   2014        7.508      Denmark\n",
      "1304  2015        7.603       Norway\n",
      "559   2016        7.660      Finland\n",
      "560   2017        7.788      Finland\n",
      "561   2018        7.858      Finland\n",
      "562   2019        7.780      Finland\n",
      "563   2020        7.889      Finland\n"
     ]
    }
   ],
   "source": [
    "# Ordenar de mayor a menor índice de felicidad por año\n",
    "data_filter = data.sort_values(by=['year', 'Life Ladder'], ascending=[True, False])\n",
    "\n",
    "# Crear la columna 'Rank' para el país más feliz de cada año\n",
    "data_filter['Rank'] = data_filter.groupby('year').cumcount() + 1\n",
    "\n",
    "# Filtrar por Rank=1 para obtener el país más feliz de cada año\n",
    "happiest_countries = data_filter[data_filter['Rank'] == 1]\n",
    "print(happiest_countries[['year', 'Life Ladder', 'Country name']].sort_values(by='year'))"
   ]
  },
  {
   "cell_type": "code",
   "execution_count": 11,
   "id": "7e0f2e42",
   "metadata": {},
   "outputs": [
    {
     "name": "stdout",
     "output_type": "stream",
     "text": [
      "  Country name  Times first\n",
      "0       Canada            1\n",
      "1      Denmark            7\n",
      "2      Finland            6\n",
      "3       Norway            1\n",
      "4  Switzerland            1\n"
     ]
    }
   ],
   "source": [
    "# Agrupar por país y contar las veces que un país ha ocupado el primer lugar\n",
    "country_rank_counts = happiest_countries.groupby('Country name').size().reset_index(name='Times first')\n",
    "print(country_rank_counts)"
   ]
  },
  {
   "cell_type": "code",
   "execution_count": 12,
   "id": "c6d1eaf6",
   "metadata": {},
   "outputs": [
    {
     "name": "stdout",
     "output_type": "stream",
     "text": [
      "País que más veces ocupó el Primer Lugar de Felicidad:\n",
      "  Country name  Times first\n",
      "1      Denmark            7\n"
     ]
    }
   ],
   "source": [
    "# Encontrar el país que más veces ha ocupado el primer lugar\n",
    "most_happy_country = country_rank_counts[country_rank_counts['Times first'] == country_rank_counts['Times first'].max()]\n",
    "\n",
    "print(\"País que más veces ocupó el Primer Lugar de Felicidad:\")\n",
    "print(most_happy_country)"
   ]
  },
  {
   "cell_type": "code",
   "execution_count": 13,
   "id": "c2e51b8d",
   "metadata": {},
   "outputs": [
    {
     "name": "stdout",
     "output_type": "stream",
     "text": [
      "Denmark: 7 |  Finland: 6 |  Switzerland: 1 |  Canada: 1 |  Norway: 1 |  "
     ]
    }
   ],
   "source": [
    "# Crear un diccionario para contar cuántas veces aparece cada país\n",
    "paises_contados = {}\n",
    "\n",
    "# Llenar el diccionario y contar las apariciones\n",
    "for country, _ in paises_mas_felices.values:\n",
    "    paises_contados[country] = paises_contados.get(country, 0) + 1\n",
    "\n",
    "# Mostrar el resultado en el formato deseado\n",
    "for country, count in paises_contados.items():\n",
    "    print(f\"{country}: {count} | \", end=\" \")"
   ]
  },
  {
   "cell_type": "code",
   "execution_count": 14,
   "id": "0d303e35",
   "metadata": {},
   "outputs": [
    {
     "name": "stdout",
     "output_type": "stream",
     "text": [
      "El país más feliz en 2021 es: Finland\n"
     ]
    }
   ],
   "source": [
    "print(\"El país más feliz en 2021 es:\", pais_mas_feliz_2021)"
   ]
  },
  {
   "cell_type": "markdown",
   "id": "87d56a8f",
   "metadata": {},
   "source": [
    "## 4. ¿Qué puesto de Felicidad tiene el país con mayor GDP del 2020?"
   ]
  },
  {
   "cell_type": "code",
   "execution_count": 15,
   "id": "f0b96007",
   "metadata": {},
   "outputs": [
    {
     "name": "stdout",
     "output_type": "stream",
     "text": [
      "El país con mayor GDP en 2020 es Ireland y tiene un puntaje de felicidad de 7.035\n"
     ]
    }
   ],
   "source": [
    "# Cargar el dataset que contiene datos de todos los años\n",
    "data = pd.read_csv(\"Datasets/world-happiness-report.csv\")\n",
    "\n",
    "# Filtrar los registros del año 2020\n",
    "data_2020 = data[data[\"year\"] == 2020]\n",
    "\n",
    "# Encontrar el país con el mayor GDP en 2020\n",
    "pais_mayor_gdp_2020 = data_2020[data_2020[\"Log GDP per capita\"] == data_2020[\"Log GDP per capita\"].max()][\"Country name\"].values[0]\n",
    "\n",
    "# Encontrar el puesto de felicidad de ese país en 2020\n",
    "puesto_felicidad_pais_mayor_gdp_2020 = data_2020[data_2020[\"Country name\"] == pais_mayor_gdp_2020][\"Life Ladder\"].values[0]\n",
    "print(\"El país con mayor GDP en 2020 es\", pais_mayor_gdp_2020, \"y tiene un puntaje de felicidad de\", puesto_felicidad_pais_mayor_gdp_2020)"
   ]
  },
  {
   "cell_type": "markdown",
   "id": "e9148efb",
   "metadata": {},
   "source": [
    "## 5. ¿En qué porcentaje ha variado a nivel mundial el GDP promedio del 2020 respecto al 2021? ¿Aumentó o disminuyó?"
   ]
  },
  {
   "cell_type": "code",
   "execution_count": 16,
   "id": "27e9ad9d",
   "metadata": {},
   "outputs": [],
   "source": [
    "# Cargar los datasets\n",
    "data = pd.read_csv(\"Datasets/world-happiness-report.csv\")\n",
    "data_2021 = pd.read_csv(\"Datasets/world-happiness-report-2021.csv\")\n",
    "\n",
    "# Filtrar los registros del año 2020\n",
    "data_2020 = data[data[\"year\"] == 2020]"
   ]
  },
  {
   "cell_type": "code",
   "execution_count": 17,
   "id": "e0377b46",
   "metadata": {},
   "outputs": [
    {
     "name": "stdout",
     "output_type": "stream",
     "text": [
      "   GDP_2020  GDP_2021  Variación\n",
      "0   9.75133  9.432208   3.383317\n"
     ]
    }
   ],
   "source": [
    "# Calcular el promedio del GDP en 2020 y 2021\n",
    "promedio_gdp_2020 = data_2020[\"Log GDP per capita\"].mean()\n",
    "promedio_gdp_2021 = data_2021[\"Logged GDP per capita\"].mean()\n",
    "\n",
    "# Crear un DataFrame con los promedios de GDP para ambos años\n",
    "df_promedios = pd.DataFrame({'GDP_2020': [promedio_gdp_2020], 'GDP_2021': [promedio_gdp_2021]})\n",
    "\n",
    "# Calcular la variación del GDP promedio\n",
    "df_promedios['Variación'] = ((df_promedios['GDP_2020'] - df_promedios['GDP_2021']) / df_promedios['GDP_2021']) * 100\n",
    "\n",
    "# Mostrar el resultado\n",
    "print(df_promedios)"
   ]
  },
  {
   "cell_type": "code",
   "execution_count": 18,
   "id": "0ae4bf97",
   "metadata": {},
   "outputs": [
    {
     "name": "stdout",
     "output_type": "stream",
     "text": [
      "El GDP promedio aumentó en un 3.38%\n"
     ]
    }
   ],
   "source": [
    "# Verificar la variación del GDP promedio y mostrar el resultado\n",
    "variacion = df_promedios['Variación'].item()\n",
    "if variacion > 0:\n",
    "    print(f\"El GDP promedio aumentó en un {variacion:.2f}%\")\n",
    "elif variacion < 0:\n",
    "    print(f\"El GDP promedio disminuyó en un {abs(variacion):.2f}%\")\n",
    "else:\n",
    "    print(\"El GDP promedio se mantuvo igual\")"
   ]
  },
  {
   "cell_type": "markdown",
   "id": "6ed686a2",
   "metadata": {},
   "source": [
    "## 5. ¿Cuál es el país con mayor expectativa de vida (\"Healthy life expectancy at birth\")? ¿Y cuánto tenía en ese indicador en 2019?"
   ]
  },
  {
   "cell_type": "code",
   "execution_count": 20,
   "id": "ac9ffb8d",
   "metadata": {},
   "outputs": [
    {
     "name": "stdout",
     "output_type": "stream",
     "text": [
      "El país con mayor expectativa de vida en 2021 es Singapore y tenía una expectativa de vida de 76.953 .\n",
      "El país con mayor expectativa de vida en 2020 es Japan y tenía una expectativa de vida de 75.2 .\n",
      "El país con mayor expectativa de vida en 2019 es Singapore y tenía una expectativa de vida de 77.1 .\n"
     ]
    }
   ],
   "source": [
    "# Cargar los datasets\n",
    "data = pd.read_csv(\"Datasets/world-happiness-report.csv\")\n",
    "data_2021 = pd.read_csv(\"Datasets/world-happiness-report-2021.csv\")\n",
    "\n",
    "# Filtrar los registros del año 2019\n",
    "data_2019 = data[data[\"year\"] == 2019]\n",
    "\n",
    "# Filtrar los registros del año 2020\n",
    "data_2020 = data[data[\"year\"] == 2020]\n",
    "\n",
    "# Encontrar el país con mayor expectativa de vida en 2021\n",
    "pais_mayor_expectativa_vida_2021 = data_2021[data_2021[\"Healthy life expectancy\"] == data_2021[\"Healthy life expectancy\"].max()][\"Country name\"].values[0]\n",
    "\n",
    "# Encontrar la expectativa de vida de ese país en 2021\n",
    "expectativa_vida_2021 = data_2021[data_2021[\"Country name\"] == pais_mayor_expectativa_vida_2021][\"Healthy life expectancy\"].values[0]\n",
    "print(\"El país con mayor expectativa de vida en 2021 es\", pais_mayor_expectativa_vida_2021, \"y tenía una expectativa de vida de\", expectativa_vida_2021, \".\")\n",
    "\n",
    "# Encontrar el país con mayor expectativa de vida en 2020\n",
    "pais_mayor_expectativa_vida_2020 = data_2020[data_2020[\"Healthy life expectancy at birth\"] == data_2020[\"Healthy life expectancy at birth\"].max()][\"Country name\"].values[0]\n",
    "\n",
    "# Encontrar la expectativa de vida de ese país en 2020\n",
    "expectativa_vida_2020 = data_2020[data_2020[\"Country name\"] == pais_mayor_expectativa_vida_2020][\"Healthy life expectancy at birth\"].values[0]\n",
    "print(\"El país con mayor expectativa de vida en 2020 es\", pais_mayor_expectativa_vida_2020, \"y tenía una expectativa de vida de\", expectativa_vida_2020, \".\")\n",
    "\n",
    "# Encontrar el país con mayor expectativa de vida en 2019\n",
    "pais_mayor_expectativa_vida_2019 = data_2019[data_2019[\"Healthy life expectancy at birth\"] == data_2019[\"Healthy life expectancy at birth\"].max()][\"Country name\"].values[0]\n",
    "\n",
    "# Encontrar la expectativa de vida de ese país en 2019\n",
    "expectativa_vida_2019 = data_2019[data_2019[\"Country name\"] == pais_mayor_expectativa_vida_2019][\"Healthy life expectancy at birth\"].values[0]\n",
    "print(\"El país con mayor expectativa de vida en 2019 es\", pais_mayor_expectativa_vida_2019, \"y tenía una expectativa de vida de\", expectativa_vida_2019, \".\")"
   ]
  }
 ],
 "metadata": {
  "kernelspec": {
   "display_name": "Python 3 (ipykernel)",
   "language": "python",
   "name": "python3"
  },
  "language_info": {
   "codemirror_mode": {
    "name": "ipython",
    "version": 3
   },
   "file_extension": ".py",
   "mimetype": "text/x-python",
   "name": "python",
   "nbconvert_exporter": "python",
   "pygments_lexer": "ipython3",
   "version": "3.11.5"
  }
 },
 "nbformat": 4,
 "nbformat_minor": 5
}
